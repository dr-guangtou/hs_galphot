{
 "cells": [
  {
   "cell_type": "code",
   "execution_count": 1,
   "metadata": {
    "collapsed": false
   },
   "outputs": [
    {
     "name": "stdout",
     "output_type": "stream",
     "text": [
      "Populating the interactive namespace from numpy and matplotlib\n"
     ]
    }
   ],
   "source": [
    "%pylab inline\n",
    "# Matplotlib default settings\n",
    "rcdef = plt.rcParams.copy()\n",
    "pylab.rcParams['figure.figsize'] = 12, 10\n",
    "pylab.rcParams['xtick.major.size'] = 8.0\n",
    "pylab.rcParams['xtick.major.width'] = 1.5\n",
    "pylab.rcParams['xtick.minor.size'] = 4.0\n",
    "pylab.rcParams['xtick.minor.width'] = 1.5\n",
    "pylab.rcParams['ytick.major.size'] = 8.0\n",
    "pylab.rcParams['ytick.major.width'] = 1.5\n",
    "pylab.rcParams['ytick.minor.size'] = 4.0\n",
    "pylab.rcParams['ytick.minor.width'] = 1.5\n",
    "rc('axes', linewidth=2)\n",
    "\n",
    "import numpy as np\n",
    "from astropy.io import fits \n",
    "from __future__ import division \n",
    "from astropy import units as u\n",
    "\n",
    "import cubehelix  # Cubehelix color scheme\n",
    "import copy\n",
    "\n",
    "import os.path\n",
    "from pyraf import iraf"
   ]
  },
  {
   "cell_type": "markdown",
   "metadata": {},
   "source": [
    "# Read in the GALFIT output file "
   ]
  },
  {
   "cell_type": "code",
   "execution_count": 3,
   "metadata": {
    "collapsed": false
   },
   "outputs": [
    {
     "name": "stdout",
     "output_type": "stream",
     "text": [
      "Filename: red_21572_Icut_1comp.fits\n",
      "No.    Name         Type      Cards   Dimensions   Format\n",
      "0    PRIMARY     PrimaryHDU       8   (801, 801)   float32   \n",
      "1                ImageHDU        53   (801, 801)   float32   \n",
      "2                ImageHDU        36   (801, 801)   float32   \n",
      "3                ImageHDU         6   (801, 801)   float32   \n"
     ]
    }
   ],
   "source": [
    "# GALFIT output file \n",
    "galfitFile1 = 'red_21572_Icut_1comp.fits'\n",
    "galfitFile2 = 'red_21572_Icut_2comp.fits'\n",
    "\n",
    "galOutData1 = fits.open(galfitFile1)\n",
    "galOutData2 = fits.open(galfitFile2)\n",
    "\n",
    "# Basic structure \n",
    "galOutData1.info()"
   ]
  },
  {
   "cell_type": "code",
   "execution_count": 4,
   "metadata": {
    "collapsed": true
   },
   "outputs": [],
   "source": [
    "# Read in the Multi-Extension Data \n",
    "galOri1 = galOutData1[1].data\n",
    "galMod1 = galOutData1[2].data\n",
    "galRes1 = galOutData1[3].data\n",
    "\n",
    "galOri2 = galOutData2[1].data\n",
    "galMod2 = galOutData2[2].data\n",
    "galRes2 = galOutData2[3].data"
   ]
  },
  {
   "cell_type": "code",
   "execution_count": 9,
   "metadata": {
    "collapsed": false
   },
   "outputs": [
    {
     "data": {
      "text/plain": [
       "XTENSION= 'IMAGE   '           / IMAGE extension                                \n",
       "BITPIX  =                  -32 / Bits per pixel                                 \n",
       "NAXIS   =                    2 / Number of axes                                 \n",
       "NAXIS1  =                  801 / Length of data axis 1                          \n",
       "NAXIS2  =                  801 / Length of data axis 2                          \n",
       "OBJECT  = 'model   '           / Component type                                 \n",
       "COMMENT ========== GALFIT Input Parameters ==========                           \n",
       "INITFILE= 'red_21572_Icut_2comp.in' / GALFIT input file                         \n",
       "DATAIN  = 'red_21572_Icut_cor.fits' / Input data image                          \n",
       "SIGMA   = 'none    '           / Input sigma image                              \n",
       "PSF     = 'red_21572_Ipsf.fits ' / Convolution PSF and kernel                   \n",
       "CONSTRNT= '2comp.cons'         / Parameter constraint file                      \n",
       "MASK    = 'red_21572_Icut_msk.fits' / Input mask image                          \n",
       "FITSECT = '[1:801,1:801]'      / Image section fitted                           \n",
       "CONVBOX = '800, 800'           / Convolution box size                           \n",
       "MAGZPT  =                  27. / Magnitude zeropoint                            \n",
       "COMMENT ========== GALFIT Final Parameters ==========                           \n",
       "COMP_1  = 'sersic  '           / Component type                                 \n",
       "1_XC    = '400.4864 +/- 0.0086' / X center [pixel]                              \n",
       "1_YC    = '400.9287 +/- 0.0079' / Y center [pixel]                              \n",
       "1_MAG   = '19.6341 +/- 0.1107' / Integrated magnitude [mag]                     \n",
       "1_RE    = '3.4256 +/- 0.3614'  / Effective radius Re [pixels]                   \n",
       "1_N     = '2.9510 +/- 0.1542'  / Sersic index                                   \n",
       "1_AR    = '0.7669 +/- 0.0095'  / Axis ratio (b/a)                               \n",
       "1_PA    = '77.3182 +/- 1.2794' / Position Angle (PA) [degrees: Up=0, Left=90]   \n",
       "COMMENT ------------------------------------------------------------------------\n",
       "COMP_2  = 'sersic  '           / Component type                                 \n",
       "2_XC    = '400.4681 +/- 0.0613' / X center [pixel]                              \n",
       "2_YC    = '400.2686 +/- 0.0755' / Y center [pixel]                              \n",
       "2_MAG   = '18.9063 +/- 0.0575' / Integrated magnitude [mag]                     \n",
       "2_RE    = '20.0994 +/- 0.8527' / Effective radius Re [pixels]                   \n",
       "2_N     = '1.8463 +/- 0.1019'  / Sersic index                                   \n",
       "2_AR    = '0.8483 +/- 0.0111'  / Axis ratio (b/a)                               \n",
       "2_PA    = '-46.7013 +/- 3.6825' / Position Angle (PA) [degrees: Up=0, Left=90]  \n",
       "COMMENT ------------------------------------------------------------------------\n",
       "FLAGS   = 'A-6 A-3 A-5 '       / See `galfit -help' for details.                \n",
       "COMMENT ------------------------------------------------------------------------\n",
       "CHISQ   =     492095.934662876 / Chi^2 of fit                                   \n",
       "NDOF    =               428076 / Degrees of freedom                             \n",
       "NFREE   =                   14 / Number of free parameters                      \n",
       "NFIX    =                    0 / Number of fixed parameters                     \n",
       "CHI2NU  =             1.149553 / Reduced Chi^2                                  \n",
       "LOGFILE = 'galfit.08'          / Output logfile                                 \n",
       "COMMENT =============================================                           \n",
       "COMMENT                                                                         "
      ]
     },
     "execution_count": 9,
     "metadata": {},
     "output_type": "execute_result"
    }
   ],
   "source": [
    "# Header information for the model image\n",
    "headMod1 = galOutData1[2].header\n",
    "headMod2 = galOutData2[2].header\n",
    "\n",
    "# Show an example header from Galfit model image\n",
    "headMod2"
   ]
  },
  {
   "cell_type": "code",
   "execution_count": 11,
   "metadata": {
    "collapsed": false
   },
   "outputs": [],
   "source": [
    "aa = headMod2['1_MAG']"
   ]
  },
  {
   "cell_type": "code",
   "execution_count": 17,
   "metadata": {
    "collapsed": false
   },
   "outputs": [],
   "source": [
    "bb = float((aa.split())[0])"
   ]
  },
  {
   "cell_type": "code",
   "execution_count": null,
   "metadata": {
    "collapsed": false
   },
   "outputs": [],
   "source": []
  },
  {
   "cell_type": "code",
   "execution_count": null,
   "metadata": {
    "collapsed": true
   },
   "outputs": [],
   "source": []
  }
 ],
 "metadata": {
  "kernelspec": {
   "display_name": "Python 2",
   "language": "python",
   "name": "python2"
  },
  "language_info": {
   "codemirror_mode": {
    "name": "ipython",
    "version": 2
   },
   "file_extension": ".py",
   "mimetype": "text/x-python",
   "name": "python",
   "nbconvert_exporter": "python",
   "pygments_lexer": "ipython2",
   "version": "2.7.9"
  }
 },
 "nbformat": 4,
 "nbformat_minor": 0
}
